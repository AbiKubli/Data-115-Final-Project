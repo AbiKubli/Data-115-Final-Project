{
 "cells": [
  {
   "cell_type": "markdown",
   "id": "3fe7e8f8-457a-4be0-94e2-6be202628c36",
   "metadata": {},
   "source": [
    "<h2> Final Project </h2>\n",
    "<h3> Team <i> 6 </i></h3>\n",
    "<h3> Students' names:  <i> Abigail Kubli and Zander Edmond</i></h3>"
   ]
  },
  {
   "cell_type": "markdown",
   "id": "2b2b782d-95b4-430e-971e-1e1609328105",
   "metadata": {},
   "source": [
    "#### Description of the dataset’s fundamental properties and the reasons for  its selection:\n",
    "We chose this dataset for a couple of reasons, one being the attributes of the set were easy things to comprehend such as rank, name, platform. Year, genre, publisher, sales, etc. In having these choices, we were able to find good intriguing questions that not only we understood but we can challenge ourselves with it. It also broke things in one column down into other columns, example being sales, we had a column consisting of global sales of video games, then in three separate columns it split up between Japanese, North American, and European regions. Lastly, one thing we liked was we all knew what each column meant because we all carried some sort of knowledge around video games. Unlike some of the other datasets which had columns or data we couldn’t all comprehend easily."
   ]
  },
  {
   "cell_type": "markdown",
   "id": "42af2e2a-6131-41b3-a9ab-9cb958f73cdd",
   "metadata": {},
   "source": [
    "### Research Questions:"
   ]
  },
  {
   "cell_type": "code",
   "execution_count": 8,
   "id": "994d7c27-d82e-43ec-a228-b4c5f55b63bc",
   "metadata": {},
   "outputs": [],
   "source": [
    "import matplotlib.pyplot as plt\n",
    "import pandas as pd\n",
    "import numpy as np\n",
    "\n",
    "sales= pd.read_csv(\"./vgsales.csv\")\n",
    "df= pd.read_csv(\"./Video Game Sales.csv\")"
   ]
  },
  {
   "cell_type": "markdown",
   "id": "5abcb7ed-5183-4ad6-a87c-ed118f722bed",
   "metadata": {},
   "source": [
    "#### 1) Which genre of game is the highest selling in each region?"
   ]
  },
  {
   "cell_type": "code",
   "execution_count": 57,
   "id": "8f33ac0a-05b2-4c82-848f-54aa02df4db4",
   "metadata": {},
   "outputs": [
    {
     "data": {
      "text/html": [
       "<div>\n",
       "<style scoped>\n",
       "    .dataframe tbody tr th:only-of-type {\n",
       "        vertical-align: middle;\n",
       "    }\n",
       "\n",
       "    .dataframe tbody tr th {\n",
       "        vertical-align: top;\n",
       "    }\n",
       "\n",
       "    .dataframe thead th {\n",
       "        text-align: right;\n",
       "    }\n",
       "</style>\n",
       "<table border=\"1\" class=\"dataframe\">\n",
       "  <thead>\n",
       "    <tr style=\"text-align: right;\">\n",
       "      <th></th>\n",
       "      <th>Genre</th>\n",
       "      <th>North America</th>\n",
       "    </tr>\n",
       "  </thead>\n",
       "  <tbody>\n",
       "    <tr>\n",
       "      <th>1</th>\n",
       "      <td>Strategy</td>\n",
       "      <td>68.70</td>\n",
       "    </tr>\n",
       "    <tr>\n",
       "      <th>2</th>\n",
       "      <td>Adventure</td>\n",
       "      <td>105.80</td>\n",
       "    </tr>\n",
       "    <tr>\n",
       "      <th>3</th>\n",
       "      <td>Puzzle</td>\n",
       "      <td>123.78</td>\n",
       "    </tr>\n",
       "    <tr>\n",
       "      <th>4</th>\n",
       "      <td>Simulation</td>\n",
       "      <td>183.31</td>\n",
       "    </tr>\n",
       "    <tr>\n",
       "      <th>5</th>\n",
       "      <td>Fighting</td>\n",
       "      <td>223.59</td>\n",
       "    </tr>\n",
       "    <tr>\n",
       "      <th>6</th>\n",
       "      <td>Role-Playing</td>\n",
       "      <td>327.28</td>\n",
       "    </tr>\n",
       "    <tr>\n",
       "      <th>7</th>\n",
       "      <td>Racing</td>\n",
       "      <td>359.42</td>\n",
       "    </tr>\n",
       "    <tr>\n",
       "      <th>8</th>\n",
       "      <td>Misc</td>\n",
       "      <td>410.24</td>\n",
       "    </tr>\n",
       "    <tr>\n",
       "      <th>9</th>\n",
       "      <td>Platform</td>\n",
       "      <td>447.05</td>\n",
       "    </tr>\n",
       "    <tr>\n",
       "      <th>10</th>\n",
       "      <td>Shooter</td>\n",
       "      <td>582.60</td>\n",
       "    </tr>\n",
       "    <tr>\n",
       "      <th>11</th>\n",
       "      <td>Sports</td>\n",
       "      <td>683.35</td>\n",
       "    </tr>\n",
       "    <tr>\n",
       "      <th>12</th>\n",
       "      <td>Action</td>\n",
       "      <td>877.83</td>\n",
       "    </tr>\n",
       "  </tbody>\n",
       "</table>\n",
       "</div>"
      ],
      "text/plain": [
       "           Genre  North America\n",
       "1       Strategy          68.70\n",
       "2      Adventure         105.80\n",
       "3         Puzzle         123.78\n",
       "4     Simulation         183.31\n",
       "5       Fighting         223.59\n",
       "6   Role-Playing         327.28\n",
       "7         Racing         359.42\n",
       "8           Misc         410.24\n",
       "9       Platform         447.05\n",
       "10       Shooter         582.60\n",
       "11        Sports         683.35\n",
       "12        Action         877.83"
      ]
     },
     "execution_count": 57,
     "metadata": {},
     "output_type": "execute_result"
    }
   ],
   "source": [
    "na_genre = pd.DataFrame({\"Genre\":df['Category'],\"North America\":df['NA_Genre']})\n",
    "na_genre.index = [\"11\",\"9\",\"7\",\"6\",\"3\",\"8\",\"10\",\"4\",\"12\",\"5\",\"2\",\"1\"]\n",
    "na_genre.sort_values(by = \"North America\")"
   ]
  },
  {
   "cell_type": "code",
   "execution_count": 67,
   "id": "f8865b40-34b4-4150-a42d-dfeb50bccd73",
   "metadata": {},
   "outputs": [
    {
     "data": {
      "text/html": [
       "<div>\n",
       "<style scoped>\n",
       "    .dataframe tbody tr th:only-of-type {\n",
       "        vertical-align: middle;\n",
       "    }\n",
       "\n",
       "    .dataframe tbody tr th {\n",
       "        vertical-align: top;\n",
       "    }\n",
       "\n",
       "    .dataframe thead th {\n",
       "        text-align: right;\n",
       "    }\n",
       "</style>\n",
       "<table border=\"1\" class=\"dataframe\">\n",
       "  <thead>\n",
       "    <tr style=\"text-align: right;\">\n",
       "      <th></th>\n",
       "      <th>Genre</th>\n",
       "      <th>Europe</th>\n",
       "    </tr>\n",
       "  </thead>\n",
       "  <tbody>\n",
       "    <tr>\n",
       "      <th>1</th>\n",
       "      <td>Strategy</td>\n",
       "      <td>45.34</td>\n",
       "    </tr>\n",
       "    <tr>\n",
       "      <th>2</th>\n",
       "      <td>Puzzle</td>\n",
       "      <td>50.78</td>\n",
       "    </tr>\n",
       "    <tr>\n",
       "      <th>3</th>\n",
       "      <td>Adventure</td>\n",
       "      <td>64.13</td>\n",
       "    </tr>\n",
       "    <tr>\n",
       "      <th>4</th>\n",
       "      <td>Fighting</td>\n",
       "      <td>101.32</td>\n",
       "    </tr>\n",
       "    <tr>\n",
       "      <th>5</th>\n",
       "      <td>Simulation</td>\n",
       "      <td>113.38</td>\n",
       "    </tr>\n",
       "    <tr>\n",
       "      <th>6</th>\n",
       "      <td>Role-Playing</td>\n",
       "      <td>188.06</td>\n",
       "    </tr>\n",
       "    <tr>\n",
       "      <th>7</th>\n",
       "      <td>Platform</td>\n",
       "      <td>201.63</td>\n",
       "    </tr>\n",
       "    <tr>\n",
       "      <th>8</th>\n",
       "      <td>Misc</td>\n",
       "      <td>215.98</td>\n",
       "    </tr>\n",
       "    <tr>\n",
       "      <th>9</th>\n",
       "      <td>Racing</td>\n",
       "      <td>238.39</td>\n",
       "    </tr>\n",
       "    <tr>\n",
       "      <th>10</th>\n",
       "      <td>Shooter</td>\n",
       "      <td>313.27</td>\n",
       "    </tr>\n",
       "    <tr>\n",
       "      <th>11</th>\n",
       "      <td>Sports</td>\n",
       "      <td>376.85</td>\n",
       "    </tr>\n",
       "    <tr>\n",
       "      <th>12</th>\n",
       "      <td>Action</td>\n",
       "      <td>525.00</td>\n",
       "    </tr>\n",
       "  </tbody>\n",
       "</table>\n",
       "</div>"
      ],
      "text/plain": [
       "           Genre  Europe\n",
       "1       Strategy   45.34\n",
       "2         Puzzle   50.78\n",
       "3      Adventure   64.13\n",
       "4       Fighting  101.32\n",
       "5     Simulation  113.38\n",
       "6   Role-Playing  188.06\n",
       "7       Platform  201.63\n",
       "8           Misc  215.98\n",
       "9         Racing  238.39\n",
       "10       Shooter  313.27\n",
       "11        Sports  376.85\n",
       "12        Action  525.00"
      ]
     },
     "execution_count": 67,
     "metadata": {},
     "output_type": "execute_result"
    }
   ],
   "source": [
    "eu_genre = pd.DataFrame({\"Genre\":df['Category'],\"Europe\":df['EU_Genre']})\n",
    "eu_genre.index = [\"11\",\"7\",\"9\",\"6\",\"2\",\"8\",\"10\",\"5\",\"12\",\"4\",\"3\",\"1\"]\n",
    "eu_genre.sort_values(by = \"Europe\")"
   ]
  },
  {
   "cell_type": "code",
   "execution_count": 71,
   "id": "260694ad-cb32-4ed4-89ad-53195d3f5aca",
   "metadata": {},
   "outputs": [
    {
     "data": {
      "text/html": [
       "<div>\n",
       "<style scoped>\n",
       "    .dataframe tbody tr th:only-of-type {\n",
       "        vertical-align: middle;\n",
       "    }\n",
       "\n",
       "    .dataframe tbody tr th {\n",
       "        vertical-align: top;\n",
       "    }\n",
       "\n",
       "    .dataframe thead th {\n",
       "        text-align: right;\n",
       "    }\n",
       "</style>\n",
       "<table border=\"1\" class=\"dataframe\">\n",
       "  <thead>\n",
       "    <tr style=\"text-align: right;\">\n",
       "      <th></th>\n",
       "      <th>Genre</th>\n",
       "      <th>Japan</th>\n",
       "    </tr>\n",
       "  </thead>\n",
       "  <tbody>\n",
       "    <tr>\n",
       "      <th>1</th>\n",
       "      <td>Shooter</td>\n",
       "      <td>38.28</td>\n",
       "    </tr>\n",
       "    <tr>\n",
       "      <th>2</th>\n",
       "      <td>Strategy</td>\n",
       "      <td>49.46</td>\n",
       "    </tr>\n",
       "    <tr>\n",
       "      <th>3</th>\n",
       "      <td>Adventure</td>\n",
       "      <td>52.07</td>\n",
       "    </tr>\n",
       "    <tr>\n",
       "      <th>4</th>\n",
       "      <td>Racing</td>\n",
       "      <td>56.69</td>\n",
       "    </tr>\n",
       "    <tr>\n",
       "      <th>5</th>\n",
       "      <td>Puzzle</td>\n",
       "      <td>57.31</td>\n",
       "    </tr>\n",
       "    <tr>\n",
       "      <th>6</th>\n",
       "      <td>Simulation</td>\n",
       "      <td>63.70</td>\n",
       "    </tr>\n",
       "    <tr>\n",
       "      <th>7</th>\n",
       "      <td>Fighting</td>\n",
       "      <td>87.35</td>\n",
       "    </tr>\n",
       "    <tr>\n",
       "      <th>8</th>\n",
       "      <td>Misc</td>\n",
       "      <td>107.76</td>\n",
       "    </tr>\n",
       "    <tr>\n",
       "      <th>9</th>\n",
       "      <td>Platform</td>\n",
       "      <td>130.77</td>\n",
       "    </tr>\n",
       "    <tr>\n",
       "      <th>10</th>\n",
       "      <td>Sports</td>\n",
       "      <td>135.37</td>\n",
       "    </tr>\n",
       "    <tr>\n",
       "      <th>11</th>\n",
       "      <td>Action</td>\n",
       "      <td>159.95</td>\n",
       "    </tr>\n",
       "    <tr>\n",
       "      <th>12</th>\n",
       "      <td>Role-Playing</td>\n",
       "      <td>352.31</td>\n",
       "    </tr>\n",
       "  </tbody>\n",
       "</table>\n",
       "</div>"
      ],
      "text/plain": [
       "           Genre   Japan\n",
       "1        Shooter   38.28\n",
       "2       Strategy   49.46\n",
       "3      Adventure   52.07\n",
       "4         Racing   56.69\n",
       "5         Puzzle   57.31\n",
       "6     Simulation   63.70\n",
       "7       Fighting   87.35\n",
       "8           Misc  107.76\n",
       "9       Platform  130.77\n",
       "10        Sports  135.37\n",
       "11        Action  159.95\n",
       "12  Role-Playing  352.31"
      ]
     },
     "execution_count": 71,
     "metadata": {},
     "output_type": "execute_result"
    }
   ],
   "source": [
    "jp_genre = pd.DataFrame({\"Genre\":df['Category'],\"Japan\":df['JP_Genre']})\n",
    "jp_genre.index = [\"10\",\"9\",\"4\",\"12\",\"5\",\"8\",\"1\",\"6\",\"11\",\"7\",\"3\",\"2\"]\n",
    "jp_genre.sort_values(by = \"Japan\")"
   ]
  },
  {
   "cell_type": "code",
   "execution_count": 77,
   "id": "be158290-cf54-4625-b36a-8d2c90ccbf2c",
   "metadata": {},
   "outputs": [
    {
     "data": {
      "text/html": [
       "<div>\n",
       "<style scoped>\n",
       "    .dataframe tbody tr th:only-of-type {\n",
       "        vertical-align: middle;\n",
       "    }\n",
       "\n",
       "    .dataframe tbody tr th {\n",
       "        vertical-align: top;\n",
       "    }\n",
       "\n",
       "    .dataframe thead th {\n",
       "        text-align: right;\n",
       "    }\n",
       "</style>\n",
       "<table border=\"1\" class=\"dataframe\">\n",
       "  <thead>\n",
       "    <tr style=\"text-align: right;\">\n",
       "      <th></th>\n",
       "      <th>Genre</th>\n",
       "      <th>Other</th>\n",
       "    </tr>\n",
       "  </thead>\n",
       "  <tbody>\n",
       "    <tr>\n",
       "      <th>1</th>\n",
       "      <td>Strategy</td>\n",
       "      <td>11.36</td>\n",
       "    </tr>\n",
       "    <tr>\n",
       "      <th>2</th>\n",
       "      <td>Puzzle</td>\n",
       "      <td>12.55</td>\n",
       "    </tr>\n",
       "    <tr>\n",
       "      <th>3</th>\n",
       "      <td>Adventure</td>\n",
       "      <td>16.81</td>\n",
       "    </tr>\n",
       "    <tr>\n",
       "      <th>4</th>\n",
       "      <td>Simulation</td>\n",
       "      <td>31.52</td>\n",
       "    </tr>\n",
       "    <tr>\n",
       "      <th>5</th>\n",
       "      <td>Fighting</td>\n",
       "      <td>36.68</td>\n",
       "    </tr>\n",
       "    <tr>\n",
       "      <th>6</th>\n",
       "      <td>Platform</td>\n",
       "      <td>51.59</td>\n",
       "    </tr>\n",
       "    <tr>\n",
       "      <th>7</th>\n",
       "      <td>Role-Playing</td>\n",
       "      <td>59.61</td>\n",
       "    </tr>\n",
       "    <tr>\n",
       "      <th>8</th>\n",
       "      <td>Misc</td>\n",
       "      <td>75.32</td>\n",
       "    </tr>\n",
       "    <tr>\n",
       "      <th>9</th>\n",
       "      <td>Racing</td>\n",
       "      <td>77.27</td>\n",
       "    </tr>\n",
       "    <tr>\n",
       "      <th>10</th>\n",
       "      <td>Shooter</td>\n",
       "      <td>102.69</td>\n",
       "    </tr>\n",
       "    <tr>\n",
       "      <th>11</th>\n",
       "      <td>Sports</td>\n",
       "      <td>134.97</td>\n",
       "    </tr>\n",
       "    <tr>\n",
       "      <th>12</th>\n",
       "      <td>Action</td>\n",
       "      <td>187.38</td>\n",
       "    </tr>\n",
       "  </tbody>\n",
       "</table>\n",
       "</div>"
      ],
      "text/plain": [
       "           Genre   Other\n",
       "1       Strategy   11.36\n",
       "2         Puzzle   12.55\n",
       "3      Adventure   16.81\n",
       "4     Simulation   31.52\n",
       "5       Fighting   36.68\n",
       "6       Platform   51.59\n",
       "7   Role-Playing   59.61\n",
       "8           Misc   75.32\n",
       "9         Racing   77.27\n",
       "10       Shooter  102.69\n",
       "11        Sports  134.97\n",
       "12        Action  187.38"
      ]
     },
     "execution_count": 77,
     "metadata": {},
     "output_type": "execute_result"
    }
   ],
   "source": [
    "other_genre = pd.DataFrame({\"Genre\":df['Category'],\"Other\":df['Other_Genre']})\n",
    "other_genre.index = [\"11\",\"6\",\"9\",\"7\",\"2\",\"8\",\"10\",\"4\",\"12\",\"5\",\"3\",\"1\"]\n",
    "other_genre.sort_values(by = \"Other\")"
   ]
  },
  {
   "cell_type": "markdown",
   "id": "8ceb4b81-3cfa-4da7-917d-d1890f11a1bd",
   "metadata": {},
   "source": [
    "From the tables above we can see that in North America the highest selling genre is Action with all the years combined by quite a large margin. For Europe and the other regions it's also Action but in Japan the highest selling is Role-Playing. I wonder why it's different in Japan but Japan still has action as the second highest selling genre but it's nearly half of what Role-Playing has."
   ]
  },
  {
   "cell_type": "markdown",
   "id": "2a27f559-bdb5-44da-b3e6-ec7518642355",
   "metadata": {},
   "source": [
    "##### 1) Report\n",
    "What we wanted to get from this first question was just a table showcasing which genre of game was the highest selling, also we just wanted to see the sales of each genre and look to compare them from region to region. So, starting with the North American region one thing you will notice after first glance is no matter the genre we can see higher sales in comparison to other regions. As for the highest selling genre that would be action games, the least selling genre is strategy games. This data is interesting to look at compared to other genres when you think about the gun violence in America, also maybe the lack of problem solving that we have in the United States. Moving on to the European region we see a much lower average in sales at first glance, as for the highest selling genre once again we see action as the highest selling still with a decent margin from the second highest which is sports games. As for the lowest selling genre, it is also strategy with puzzle games right next to it, so we can see a similar pattern in Europe to North America. Once we get to the Japan region is where we start to see things shift. The average sales in Japan are way lower than the other regions, but if you think about the population difference between Japan in comparison to North America and Europe the sales are surprisingly high. When it comes to the genre breakdown, we see a lot of similar numbers except one outlier in the data, which is Role-playing, which sold more than any other genre by a vast amount. Once again though we see strategy being the lowest selling genre in Japan as well. Lastly, we recorded data from all regions other than the three I mentioned already. We do see a lower average in sales in this part of the data set but that can be predicted by looking at where we are sampling from. As for the highest selling genre once again it is action, so ¾ of the regions we looked at action games are the highest selling genre. As for the lowest in all 4 regions strategy games are the lowest selling. What can we draw from this data? A lot starting with producing an action or a sports game can create more revenue. Whereas producing a strategy or puzzle game might now be a good usage of time and money for the return that you would get on it.\r\n"
   ]
  },
  {
   "cell_type": "markdown",
   "id": "f8e78550-11b5-4e79-bc47-60aabb45eb6e",
   "metadata": {},
   "source": [
    "This was initially a little difficult because in our project proposal we said how we wanted to create tables as visualisations to answer this question and I didn't rember how to create tables in python. After looking over past work though I was able to figure it out. Another challenge was I had to create a new excel sheet because if I wanted to make a table with the other only it would show a lot of blank rows. I had to us the SUMIF function in excel to sum the game sales for each region and the specific genre."
   ]
  },
  {
   "cell_type": "markdown",
   "id": "b9eff9ff-54f3-448f-9781-6a993a1aaaef",
   "metadata": {},
   "source": [
    "We thought it would be easiest to read and tell which genre was the highest selling with tables. This is because the tables are easy to read and understand and clearly state the genre and region sales for that genre. I think the tables are easy to look at to and it is clear which one is the highest selling for each region. I also created it so the tables go from least to highest sales. This makes it easy to tell which genre is the highest and lowest selling genre for each region."
   ]
  },
  {
   "cell_type": "markdown",
   "id": "0ea2fbfc-82e6-41a6-931d-04ddffccf565",
   "metadata": {},
   "source": [
    "#### 2) What is the difference in sales between each region (finding out which region spends the most on games)?"
   ]
  },
  {
   "cell_type": "code",
   "execution_count": 49,
   "id": "caade073-8d1d-4b88-8551-a9f059b893ff",
   "metadata": {},
   "outputs": [
    {
     "name": "stderr",
     "output_type": "stream",
     "text": [
      "C:\\Users\\abi_s\\anaconda3\\Lib\\site-packages\\IPython\\core\\pylabtools.py:170: UserWarning: Creating legend with loc=\"best\" can be slow with large amounts of data.\n",
      "  fig.canvas.print_figure(bytes_io, **kw)\n"
     ]
    },
    {
     "data": {
      "image/png": "[encoded data removed]",
      "text/plain": [
       "<Figure size 640x480 with 1 Axes>"
      ]
     },
     "metadata": {},
     "output_type": "display_data"
    }
   ],
   "source": [
    "plt.bar (sales['Year'], sales['NA'], label= 'North America', alpha=0.5)\n",
    "plt.bar (sales['Year'], sales['EU'], label= 'Europe', alpha=0.5)\n",
    "plt.bar (sales['Year'], sales['JP'], label= 'Japan', alpha=0.5)\n",
    "plt.bar (sales['Year'], sales['Other'], label= 'Other', alpha=0.5)\n",
    "\n",
    "plt.yticks(np.arange(0, 350, 20))\n",
    "plt.xticks(np.arange(1980, 2025, 5))\n",
    "\n",
    "plt.xlabel('Year')\n",
    "plt.ylabel('Sales in Millions')\n",
    "plt.title('Video Game Sales')\n",
    "plt.legend()\n",
    "plt.show()"
   ]
  },
  {
   "cell_type": "markdown",
   "id": "d31cf947-acbc-49e8-a7d6-882ce83fc9a5",
   "metadata": {},
   "source": [
    "It looks like North America has consistently  higher sales or is just slightly behind second for some years. Europe from 1980-1996 was maybe third place for sales until the 2000s were they were second for the whole time with sales being in a far lead when compared to Japan and the other regions. Japan was selling more games compared to some regions in the 1900s but than in the 2000s even the other regions over took them at some points like in 2008. I wonder why North America has such high video games sales for the games shown in the data set. Maybe it's because they are such a big countryhave such a big population (especially in the U.S.) but to really figure that out we woould need different data but it's interesting to think about."
   ]
  },
  {
   "cell_type": "markdown",
   "id": "64dab31b-88b2-4da8-bb8a-f0519c845a4c",
   "metadata": {},
   "source": [
    "##### 2) Report\n",
    "The way this graph is formatted you can grasp a lot of different information. One thing I have learned in this class from our RDA assignments is the more you look at a visualization the more you understand and the more information you start to notice. Let’s start breaking it down, the question we wanted to answer with this one is the difference in sales between each region, and how the sales change between region year-to-year. We will start off with the Japan region, as you can see the green bars tend to be a little lower than the others. This shows us Japan didn’t put as much money towards games in comparison to Europe and North America. Another observation that can be drawn about Japan is no one was purchasing games up until 1996, the years before that they had nearly no sales. Moving onto Europe we see much higher sales than Japan, but their emergence of the sales is what we found intriguing Europe seemed to have no sales for video games right until around the 2000’s when the market for video games in Europe shot up seeing high sales of over100 million. The last region we researched was North America, in North America we saw our highest sales of 340 million dollars, from 2001-2011 North America averaged sales of around 200 million.  \r\n"
   ]
  },
  {
   "cell_type": "markdown",
   "id": "4c9b08c8-566d-4df4-844f-0744e652cd7a",
   "metadata": {},
   "source": [
    "It was difficult to graph this data because originally I tried to graph this without adding every years sales together and that ended up not really representing the data well enough. I decided to then change our visulization. I went into the excel spreadsheet where our data is and used SUMIF and summed all the data for a certain region by year and then used that to graph. It was a bit more time consuming than my original approch but definitly fits better with the question. On top of that there is a lot of data to work with which made it hard to run the code sometimes but when I summed the data up it made it run way smoother."
   ]
  },
  {
   "cell_type": "markdown",
   "id": "0896f615-cdfa-43f9-848c-06f2fb98b14a",
   "metadata": {},
   "source": [
    "I thought the best way to display the data wat with this cool opacity thing I found you could change with baar graphs. This makes it easier for people to tell where each regions sales were at for each year. I also added a legend so people could easily tell which data was represented with which color. I game the bar graph labels so it's easily understood what you are looking at with."
   ]
  },
  {
   "cell_type": "markdown",
   "id": "6e70e5ba-d7e0-490a-b468-1e5cb17465d4",
   "metadata": {},
   "source": [
    "I also thought of maybe using multiple line graphs to show this data but ultimately realize that bar graphs would loook nicer and are easier to read."
   ]
  },
  {
   "cell_type": "markdown",
   "id": "3734930b-c490-47c7-bf61-eee6cd3761be",
   "metadata": {},
   "source": [
    "#### 3) How does the total global sales to time in years, show us what the growth in video game sales looks like on a global scale?"
   ]
  },
  {
   "cell_type": "code",
   "execution_count": 9,
   "id": "c82bf127-86d1-4081-8c6a-2d7d4a1a0d39",
   "metadata": {},
   "outputs": [
    {
     "data": {
      "text/plain": [
       "Text(0.5, 1.0, 'Global Sales Vs Year')"
      ]
     },
     "execution_count": 9,
     "metadata": {},
     "output_type": "execute_result"
    },
    {
     "data": {
      "image/png": "[encoded data removed]",
      "text/plain": [
       "<Figure size 640x480 with 1 Axes>"
      ]
     },
     "metadata": {},
     "output_type": "display_data"
    }
   ],
   "source": [
    "plt.plot(sales['Year'], sales['Global'], color = 'purple')\n",
    "\n",
    "plt.xlabel('Year')\n",
    "plt.ylabel('Sales in Millions')\n",
    "plt.title('Global Sales Vs Year')"
   ]
  },
  {
   "cell_type": "markdown",
   "id": "cf60235b-dabd-4cce-a8d7-74c0ff65ff41",
   "metadata": {},
   "source": [
    "It is a little hard to tell how the growth in video games looked like because the collecters of the data took less data from games as the late 2010s hit so I believe that part of the graph is a little misleading because of that. Overall though it looks like global sales were trending upwards through the 1980's to 2010ish. I wonder it that is because of the rise in technology and how it became more promanent in the early to mid 200s."
   ]
  },
  {
   "cell_type": "markdown",
   "id": "84153fb4-c5be-4893-97a6-d993f99d8795",
   "metadata": {},
   "source": [
    "##### 3) Report\n",
    "For this last graph it is a simple but effective display, we wanted to see the growth in video games. The best way to figure that out would be to see the total global sales year by year, then connecting those points over a timeline. So, what we found was a rocky emergence from 1980 till about 1995, not until 1996 did we see the first jump as well as breaking 100 million dollars in global sales for video games. We see continual growth up to 200 where we see a slight decrease, but after that large growth until 2008 reaching just south of 700 million dollars in sales. After that we see large holes in our dataset, because in our own research conducted, we saw the global sales keep rising, but that seems to not be recorded here causing our graph to look a little misleading."
   ]
  },
  {
   "cell_type": "markdown",
   "id": "78cf5928-a3ad-4b78-917b-af50752fbc3c",
   "metadata": {},
   "source": [
    "There wasn't really any challenges when answering this question besides the fact that the data was kind of less recorded in the late 2010s so the line graph isn't as accurate to represent the growth of global sales sadly. There isn't much we can do about thing though besides address the problem. I think it does represent 1980-2010 growth in video games sales but after that there is a decress in data collected so it's harder to tell what the 2010s data really looks like."
   ]
  },
  {
   "cell_type": "markdown",
   "id": "8bc09405-bbea-445f-8f97-5ada5ae06039",
   "metadata": {},
   "source": [
    "Our group thought it would be best to create a nice simple line graph to answer this question beacuse it clearly shows the progression of the global sales throught the years. I choose to make the line purrple because it added a bit of variety from the other colors we've used for the other visualizations. I had to us SUMIF once again to add up every global sale by year and then have it graphed. We labeled the axis' and gave it a title so the reader can clearly tell what we are trying to communicate"
   ]
  },
  {
   "cell_type": "markdown",
   "id": "4804e683-5baa-49f0-8bc4-7c6392ad6b6d",
   "metadata": {},
   "source": [
    "#### Reflection on further analyses you would pursue with additional time or data:\n",
    "I think something to investigate if we had more time would have been looking into what kind of games are the best-selling. Does the genre of the game affect the sales from region to region. Also what kind of console you play the game on, does that affect how much money the game makes, does a certain console game sell more than others depending on the region."
   ]
  }
 ],
 "metadata": {
  "kernelspec": {
   "display_name": "Python 3 (ipykernel)",
   "language": "python",
   "name": "python3"
  },
  "language_info": {
   "codemirror_mode": {
    "name": "ipython",
    "version": 3
   },
   "file_extension": ".py",
   "mimetype": "text/x-python",
   "name": "python",
   "nbconvert_exporter": "python",
   "pygments_lexer": "ipython3",
   "version": "3.12.3"
  }
 },
 "nbformat": 4,
 "nbformat_minor": 5
}
